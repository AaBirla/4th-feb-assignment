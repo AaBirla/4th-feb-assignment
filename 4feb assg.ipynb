{
 "cells": [
  {
   "cell_type": "markdown",
   "id": "9985e84f-8314-4dee-9e11-253b05da5ea3",
   "metadata": {},
   "source": [
    "### Q1. Create a python program to sort the given list of tuples based on integer value using a lambda function."
   ]
  },
  {
   "cell_type": "markdown",
   "id": "f66f2b1a-4bf6-46e8-b8cc-6f7a82a0e982",
   "metadata": {},
   "source": [
    "[('Sachin Tendulkar', 34357), ('Ricky Ponting', 27483), ('Jack Kallis', 25534), ('Virat Kohli', 24936)]"
   ]
  },
  {
   "cell_type": "code",
   "execution_count": 1,
   "id": "a6930b41-398d-4c17-8405-e798a385c02a",
   "metadata": {},
   "outputs": [
    {
     "name": "stdout",
     "output_type": "stream",
     "text": [
      "[('Virat Kohli', 24936), ('Jack Kallis', 25534), ('Ricky Ponting', 27483), ('Sachin Tendulkar', 34357)]\n"
     ]
    }
   ],
   "source": [
    "lis=[('Sachin Tendulkar', 34357), ('Ricky Ponting', 27483), ('Jack Kallis', 25534), ('Virat Kohli', 24936)]\n",
    "\n",
    "sorted_list=sorted(lis,key=lambda x: x[1])\n",
    "print(sorted_list)"
   ]
  },
  {
   "cell_type": "code",
   "execution_count": null,
   "id": "14723cad-f890-420f-a779-034235346c25",
   "metadata": {},
   "outputs": [],
   "source": []
  },
  {
   "cell_type": "markdown",
   "id": "ad6e1d3c-baae-4735-92ea-ad794bcf6c82",
   "metadata": {},
   "source": [
    "### Q2. Write a Python Program to find the squares of all the numbers in the given list of integers using lambda and map functions."
   ]
  },
  {
   "cell_type": "markdown",
   "id": "329e64fb-4235-4458-9b96-4501deaab210",
   "metadata": {},
   "source": [
    "[1, 2, 3, 4, 5, 6, 7, 8, 9, 10]"
   ]
  },
  {
   "cell_type": "code",
   "execution_count": 7,
   "id": "37042956-a88b-4ae6-9df4-410042a625b5",
   "metadata": {},
   "outputs": [
    {
     "name": "stdout",
     "output_type": "stream",
     "text": [
      "[1, 4, 9, 16, 25, 36, 49, 64, 81, 100]\n"
     ]
    }
   ],
   "source": [
    "a=[1, 2, 3, 4, 5, 6, 7, 8, 9, 10] \n",
    "print(list(map(lambda x:x**2,a)))"
   ]
  },
  {
   "cell_type": "code",
   "execution_count": null,
   "id": "a71f60c7-227b-4956-b6f0-5f7ed10a063e",
   "metadata": {},
   "outputs": [],
   "source": []
  },
  {
   "cell_type": "markdown",
   "id": "a3d55d19-f4a8-47c4-88d7-e2e47bca4543",
   "metadata": {},
   "source": [
    "### Q3. Write a python program to convert the given list of integers into a tuple of strings. Use map and lambda functions"
   ]
  },
  {
   "cell_type": "markdown",
   "id": "d5d1d241-f600-42d1-8b3c-6c9af241a268",
   "metadata": {},
   "source": [
    "Given String: [1, 2, 3, 4, 5, 6, 7, 8, 9, 10]\n",
    "\n",
    "Expected output: ('1', '2', '3', '4', '5', '6', '7', '8', '9', '10')"
   ]
  },
  {
   "cell_type": "code",
   "execution_count": 8,
   "id": "dab50f8b-33bf-43c2-b498-780145f4f347",
   "metadata": {},
   "outputs": [
    {
     "name": "stdout",
     "output_type": "stream",
     "text": [
      "['1', '2', '3', '4', '5', '6', '7', '8', '9', '10']\n"
     ]
    }
   ],
   "source": [
    "lst=[1, 2, 3, 4, 5, 6, 7, 8, 9, 10]\n",
    "print(list(map(lambda x: str(x),lst)))"
   ]
  },
  {
   "cell_type": "code",
   "execution_count": null,
   "id": "7bba1511-e565-49f9-8542-adca5d284a7e",
   "metadata": {},
   "outputs": [],
   "source": []
  },
  {
   "cell_type": "markdown",
   "id": "89f707bd-76f0-4d07-8d29-aed40e3e1d30",
   "metadata": {},
   "source": [
    "### Q4. Write a python program using reduce function to compute the product of a list containing numbers from 1 to 25."
   ]
  },
  {
   "cell_type": "code",
   "execution_count": 4,
   "id": "46a72b06-a736-4200-ac9c-2c6b12d7cad0",
   "metadata": {},
   "outputs": [
    {
     "name": "stdout",
     "output_type": "stream",
     "text": [
      "15511210043330985984000000\n"
     ]
    }
   ],
   "source": [
    "from functools import reduce\n",
    "\n",
    "print(reduce(lambda x,y:x*y ,[i for i in range(1,26)]))"
   ]
  },
  {
   "cell_type": "code",
   "execution_count": null,
   "id": "9e34f00b-a62f-43ef-ba3e-6c73c3d8cf9f",
   "metadata": {},
   "outputs": [],
   "source": []
  },
  {
   "cell_type": "markdown",
   "id": "bd45fd37-91ba-4351-aaf1-18e9f215eacc",
   "metadata": {},
   "source": [
    "### Q5. Write a python program to filter the numbers in a given list that are divisible by 2 and 3 using the filter function."
   ]
  },
  {
   "cell_type": "markdown",
   "id": "922e62b0-e612-4f0f-8d07-cc959cb6986f",
   "metadata": {},
   "source": [
    "[2, 3, 6, 9, 27, 60, 90, 120, 55, 46]"
   ]
  },
  {
   "cell_type": "code",
   "execution_count": 9,
   "id": "471c8836-97a7-4885-b16e-fd5990a69cea",
   "metadata": {},
   "outputs": [
    {
     "name": "stdout",
     "output_type": "stream",
     "text": [
      "[6, 60, 90, 120]\n"
     ]
    }
   ],
   "source": [
    "lst=[2, 3, 6, 9, 27, 60, 90, 120, 55, 46]\n",
    "print(list(filter(lambda x: x%2==0 and x%3==0,lst)))"
   ]
  },
  {
   "cell_type": "code",
   "execution_count": null,
   "id": "ce4c4219-c62d-4cff-9c9b-eadbfd7bc7f8",
   "metadata": {},
   "outputs": [],
   "source": []
  },
  {
   "cell_type": "markdown",
   "id": "088a3fe5-6006-4979-9582-6c3c77fae15b",
   "metadata": {},
   "source": [
    "### Q6. Write a python program to find palindromes in the given list of strings using lambda and filter function."
   ]
  },
  {
   "cell_type": "markdown",
   "id": "b9d4ee2b-8f5a-4bf0-b527-c5c48605a007",
   "metadata": {},
   "source": [
    "['python', 'php', 'aba', 'radar', 'level']"
   ]
  },
  {
   "cell_type": "code",
   "execution_count": 6,
   "id": "3a4ed0a4-f447-4df9-a016-f6484445d743",
   "metadata": {},
   "outputs": [
    {
     "name": "stdout",
     "output_type": "stream",
     "text": [
      "['php', 'aba', 'radar', 'level']\n"
     ]
    }
   ],
   "source": [
    "lm=['python', 'php', 'aba', 'radar', 'level']\n",
    "print(list(filter(lambda x : x[::1]==x[::-1],lm)))"
   ]
  },
  {
   "cell_type": "code",
   "execution_count": null,
   "id": "2969c373-09d3-450c-8fd4-92b00ec5c636",
   "metadata": {},
   "outputs": [],
   "source": []
  }
 ],
 "metadata": {
  "kernelspec": {
   "display_name": "Python 3 (ipykernel)",
   "language": "python",
   "name": "python3"
  },
  "language_info": {
   "codemirror_mode": {
    "name": "ipython",
    "version": 3
   },
   "file_extension": ".py",
   "mimetype": "text/x-python",
   "name": "python",
   "nbconvert_exporter": "python",
   "pygments_lexer": "ipython3",
   "version": "3.10.8"
  }
 },
 "nbformat": 4,
 "nbformat_minor": 5
}
